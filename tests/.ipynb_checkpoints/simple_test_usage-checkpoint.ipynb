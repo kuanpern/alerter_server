{
 "cells": [
  {
   "cell_type": "code",
   "execution_count": null,
   "metadata": {},
   "outputs": [],
   "source": [
    "import yaml\n",
    "import alerter_server\n",
    "\n",
    "# config_file is a yaml file\n",
    "# server_url: http://xxxx\n",
    "# server_token: xxxxxx\n",
    "\n",
    "with open(config_file, 'r') as fin:\n",
    "    configs = yaml.load(fin, Loader=yaml.SafeLoader\n",
    "# end with\n",
    "\n",
    "# initialize\n",
    "alerter = alerter_server(**configs)\n",
    "\n",
    "# usage \n",
    "alerter.register(\n",
    "    msg     = 'This is a test message', \n",
    "    tempo   = 'hourly', \n",
    "    channel = 'datascience', \n",
    "    title   = 'algo01'\n",
    ") # end alerter"
   ]
  },
  {
   "cell_type": "code",
   "execution_count": null,
   "metadata": {},
   "outputs": [],
   "source": [
    "# expected outcome: alert successfully registered into the database table"
   ]
  }
 ],
 "metadata": {
  "kernelspec": {
   "display_name": "Python 3",
   "language": "python",
   "name": "python3"
  },
  "language_info": {
   "codemirror_mode": {
    "name": "ipython",
    "version": 3
   },
   "file_extension": ".py",
   "mimetype": "text/x-python",
   "name": "python",
   "nbconvert_exporter": "python",
   "pygments_lexer": "ipython3",
   "version": "3.6.8"
  }
 },
 "nbformat": 4,
 "nbformat_minor": 2
}
