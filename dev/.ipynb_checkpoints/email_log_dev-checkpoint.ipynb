{
 "cells": [
  {
   "cell_type": "code",
   "execution_count": null,
   "metadata": {},
   "outputs": [],
   "source": [
    "# hourly script\n",
    "# go to db, find all hourly tempo, unprocessed, send, register as processed"
   ]
  },
  {
   "cell_type": "code",
   "execution_count": null,
   "metadata": {},
   "outputs": [],
   "source": [
    "# daily script\n",
    "# go to db, find all hourly tempo, unprocessed, send, register as processed"
   ]
  },
  {
   "cell_type": "code",
   "execution_count": null,
   "metadata": {},
   "outputs": [],
   "source": [
    "# for each channel\n",
    "# find all subscribers\n",
    "# title as spreadsheet tab\n",
    "# write to excel\n",
    "# send email with excel attachment"
   ]
  },
  {
   "cell_type": "code",
   "execution_count": null,
   "metadata": {},
   "outputs": [],
   "source": [
    "# TODO:\n",
    "# support other email service provider\n",
    "# if too big, upload to s3, send s3 link"
   ]
  },
  {
   "cell_type": "code",
   "execution_count": null,
   "metadata": {},
   "outputs": [],
   "source": []
  },
  {
   "cell_type": "code",
   "execution_count": 41,
   "metadata": {},
   "outputs": [],
   "source": [
    "import shutil"
   ]
  },
  {
   "cell_type": "code",
   "execution_count": 67,
   "metadata": {},
   "outputs": [],
   "source": [
    "import os\n",
    "import yaml\n",
    "import sqlalchemy\n",
    "import pandas as pd\n",
    "import uuid\n",
    "import opends\n",
    "import opends.easymail"
   ]
  },
  {
   "cell_type": "code",
   "execution_count": 78,
   "metadata": {},
   "outputs": [],
   "source": [
    "import datetime\n",
    "timestamp = datetime.datetime.utcnow().isoformat().split('.')[0]"
   ]
  },
  {
   "cell_type": "code",
   "execution_count": 72,
   "metadata": {},
   "outputs": [],
   "source": [
    "config_file = os.environ['HOME']+'/.keys/scube_alerter.key.yaml'\n",
    "with open(config_file, 'r') as fin:\n",
    "\tconfigs = yaml.load(fin, Loader=yaml.SafeLoader)\n",
    "\tconn_str       = configs['conn_str']\n",
    "\tslack_token    = configs['slack_token']\n",
    "\tsendgrid_token = configs['sendgrid_token']\n",
    "# end with"
   ]
  },
  {
   "cell_type": "code",
   "execution_count": 79,
   "metadata": {},
   "outputs": [],
   "source": [
    "sender_email = 'admin@i-scube.com'"
   ]
  },
  {
   "cell_type": "code",
   "execution_count": null,
   "metadata": {},
   "outputs": [],
   "source": []
  },
  {
   "cell_type": "code",
   "execution_count": null,
   "metadata": {},
   "outputs": [],
   "source": []
  },
  {
   "cell_type": "code",
   "execution_count": 73,
   "metadata": {},
   "outputs": [],
   "source": [
    "engine = sqlalchemy.create_engine(conn_str)"
   ]
  },
  {
   "cell_type": "code",
   "execution_count": null,
   "metadata": {},
   "outputs": [],
   "source": []
  },
  {
   "cell_type": "code",
   "execution_count": 8,
   "metadata": {},
   "outputs": [],
   "source": [
    "conn = engine.connect()"
   ]
  },
  {
   "cell_type": "code",
   "execution_count": 9,
   "metadata": {},
   "outputs": [],
   "source": [
    "cmd = 'SELECT * FROM alerts_backend WHERE _isProcessed=0'\n",
    "df = pd.read_sql_query(cmd, con = conn)"
   ]
  },
  {
   "cell_type": "code",
   "execution_count": 10,
   "metadata": {},
   "outputs": [
    {
     "data": {
      "text/html": [
       "<div>\n",
       "<style scoped>\n",
       "    .dataframe tbody tr th:only-of-type {\n",
       "        vertical-align: middle;\n",
       "    }\n",
       "\n",
       "    .dataframe tbody tr th {\n",
       "        vertical-align: top;\n",
       "    }\n",
       "\n",
       "    .dataframe thead th {\n",
       "        text-align: right;\n",
       "    }\n",
       "</style>\n",
       "<table border=\"1\" class=\"dataframe\">\n",
       "  <thead>\n",
       "    <tr style=\"text-align: right;\">\n",
       "      <th></th>\n",
       "      <th>_uuid</th>\n",
       "      <th>title</th>\n",
       "      <th>msg</th>\n",
       "      <th>channel</th>\n",
       "      <th>_updated_at</th>\n",
       "      <th>_IsProcessed</th>\n",
       "      <th>_processed_at</th>\n",
       "    </tr>\n",
       "  </thead>\n",
       "  <tbody>\n",
       "    <tr>\n",
       "      <th>0</th>\n",
       "      <td>153d77ec-dbec-4056-ac43-cb38de16f463</td>\n",
       "      <td>test</td>\n",
       "      <td>this is a test</td>\n",
       "      <td>generalalerts</td>\n",
       "      <td>1.563072e+09</td>\n",
       "      <td>0</td>\n",
       "      <td>-1.0</td>\n",
       "    </tr>\n",
       "    <tr>\n",
       "      <th>1</th>\n",
       "      <td>873ad105-b11a-40d6-b910-6a86cfb238a1</td>\n",
       "      <td>test</td>\n",
       "      <td>a test message</td>\n",
       "      <td>generalalerts</td>\n",
       "      <td>1.563083e+09</td>\n",
       "      <td>0</td>\n",
       "      <td>-1.0</td>\n",
       "    </tr>\n",
       "  </tbody>\n",
       "</table>\n",
       "</div>"
      ],
      "text/plain": [
       "                                  _uuid title             msg        channel  \\\n",
       "0  153d77ec-dbec-4056-ac43-cb38de16f463  test  this is a test  generalalerts   \n",
       "1  873ad105-b11a-40d6-b910-6a86cfb238a1  test  a test message  generalalerts   \n",
       "\n",
       "    _updated_at  _IsProcessed  _processed_at  \n",
       "0  1.563072e+09             0           -1.0  \n",
       "1  1.563083e+09             0           -1.0  "
      ]
     },
     "execution_count": 10,
     "metadata": {},
     "output_type": "execute_result"
    }
   ],
   "source": [
    "df"
   ]
  },
  {
   "cell_type": "code",
   "execution_count": 31,
   "metadata": {},
   "outputs": [],
   "source": [
    "df['timestamp'] = [pd.Timestamp.fromtimestamp(val).isoformat()+'Z' for val in df.['_updated_at']]"
   ]
  },
  {
   "cell_type": "code",
   "execution_count": 35,
   "metadata": {},
   "outputs": [],
   "source": [
    "df = df[['timestamp', 'title', 'msg']].sort_values(by='timestamp')"
   ]
  },
  {
   "cell_type": "code",
   "execution_count": 36,
   "metadata": {},
   "outputs": [],
   "source": [
    "DFs = {}"
   ]
  },
  {
   "cell_type": "code",
   "execution_count": 37,
   "metadata": {},
   "outputs": [],
   "source": [
    "for title in df['title'].unique():\n",
    "    DFs[title] = df[df['title'] == title]"
   ]
  },
  {
   "cell_type": "code",
   "execution_count": 20,
   "metadata": {},
   "outputs": [],
   "source": [
    "filename = '/tmp/'+str(uuid.uuid4())+'.xlsx'"
   ]
  },
  {
   "cell_type": "code",
   "execution_count": 38,
   "metadata": {},
   "outputs": [],
   "source": [
    "writer = pd.ExcelWriter(filename, engine='xlsxwriter')"
   ]
  },
  {
   "cell_type": "code",
   "execution_count": 39,
   "metadata": {},
   "outputs": [],
   "source": [
    "for title in DFs.keys():\n",
    "    df = DFs[title]\n",
    "    df.to_excel(writer, sheet_name=title)\n",
    "# end for\n",
    "writer.save()"
   ]
  },
  {
   "cell_type": "code",
   "execution_count": 40,
   "metadata": {},
   "outputs": [
    {
     "data": {
      "text/plain": [
       "'/tmp/44e089f0-deb6-4b13-b0e6-2f3cc004fe14.xlsx'"
      ]
     },
     "execution_count": 40,
     "metadata": {},
     "output_type": "execute_result"
    }
   ],
   "source": [
    "filename"
   ]
  },
  {
   "cell_type": "code",
   "execution_count": 42,
   "metadata": {},
   "outputs": [],
   "source": [
    "# read mailing list"
   ]
  },
  {
   "cell_type": "code",
   "execution_count": null,
   "metadata": {},
   "outputs": [],
   "source": [
    "+-------------+--------------+------+-----+---------+-------+\n",
    "| Field       | Type         | Null | Key | Default | Extra |\n",
    "+-------------+--------------+------+-----+---------+-------+\n",
    "| _uuid       | varchar(40)  | NO   | PRI | NULL    |       |\n",
    "| username    | text         | YES  |     | NULL    |       |\n",
    "| _created_at | double       | YES  |     | NULL    |       |\n",
    "| status      | varchar(20)  | YES  |     | NULL    |       |\n",
    "| email       | varchar(320) | YES  |     | NULL    |       |\n",
    "| channel     | text         | YES  |     | NULL    |       |\n",
    "+-------------+--------------+------+-----+---------+-------+\n"
   ]
  },
  {
   "cell_type": "code",
   "execution_count": 53,
   "metadata": {},
   "outputs": [],
   "source": [
    "cmd = \"SELECT * FROM alerts_backend_subscription WHERE channel='{channel}' AND status='active'\"\n",
    "cmd = cmd.format(channel='generalalerts')"
   ]
  },
  {
   "cell_type": "code",
   "execution_count": 54,
   "metadata": {},
   "outputs": [
    {
     "data": {
      "text/plain": [
       "\"SELECT * FROM alerts_backend_subscription WHERE channel='generalalerts' AND status='active'\""
      ]
     },
     "execution_count": 54,
     "metadata": {},
     "output_type": "execute_result"
    }
   ],
   "source": [
    "cmd"
   ]
  },
  {
   "cell_type": "code",
   "execution_count": 55,
   "metadata": {},
   "outputs": [],
   "source": [
    "df_subscription = pd.read_sql_query(cmd, con=conn)"
   ]
  },
  {
   "cell_type": "code",
   "execution_count": 63,
   "metadata": {},
   "outputs": [],
   "source": [
    "targets = list(df_subscription.transpose().to_dict().values())"
   ]
  },
  {
   "cell_type": "code",
   "execution_count": 64,
   "metadata": {},
   "outputs": [
    {
     "data": {
      "text/plain": [
       "[{'_uuid': 'a4174c76-1ebd-42bd-acaa-f439edebdb30',\n",
       "  'username': 'kuanpern',\n",
       "  '_created_at': 1563104107.0,\n",
       "  'status': 'active',\n",
       "  'email': 'kptan86@gmail.com',\n",
       "  'channel': 'generalalerts'}]"
      ]
     },
     "execution_count": 64,
     "metadata": {},
     "output_type": "execute_result"
    }
   ],
   "source": [
    "targets"
   ]
  },
  {
   "cell_type": "code",
   "execution_count": 65,
   "metadata": {},
   "outputs": [
    {
     "data": {
      "text/plain": [
       "'/tmp/44e089f0-deb6-4b13-b0e6-2f3cc004fe14.xlsx'"
      ]
     },
     "execution_count": 65,
     "metadata": {},
     "output_type": "execute_result"
    }
   ],
   "source": [
    "filename"
   ]
  },
  {
   "cell_type": "code",
   "execution_count": 69,
   "metadata": {},
   "outputs": [],
   "source": [
    "item = targets[0]"
   ]
  },
  {
   "cell_type": "code",
   "execution_count": 108,
   "metadata": {},
   "outputs": [],
   "source": [
    "_email = item['email']\n",
    "username = item['username']"
   ]
  },
  {
   "cell_type": "code",
   "execution_count": 86,
   "metadata": {},
   "outputs": [],
   "source": [
    "tempo = 'hourly'\n",
    "channel = 'generalalerts'"
   ]
  },
  {
   "cell_type": "code",
   "execution_count": 111,
   "metadata": {},
   "outputs": [],
   "source": [
    "subject = '[{tempo}-alerts] {channel} {timestamp}'.format(\n",
    "    tempo   = tempo,\n",
    "    channel = channel,\n",
    "    timestamp = timestamp,\n",
    ") # end subject"
   ]
  },
  {
   "cell_type": "code",
   "execution_count": 109,
   "metadata": {},
   "outputs": [
    {
     "data": {
      "text/plain": [
       "'Hi kuanpern, please see attachment for alerts.'"
      ]
     },
     "execution_count": 109,
     "metadata": {},
     "output_type": "execute_result"
    }
   ],
   "source": [
    "text = 'Hi {username}, please see attachment for alerts.'.format(username=username)\n",
    "text"
   ]
  },
  {
   "cell_type": "code",
   "execution_count": 110,
   "metadata": {},
   "outputs": [
    {
     "data": {
      "text/plain": [
       "<python_http_client.client.Response at 0x7fa01a995400>"
      ]
     },
     "execution_count": 110,
     "metadata": {},
     "output_type": "execute_result"
    }
   ],
   "source": [
    "opends.easymail.send_email(\n",
    "    emailUser = sender_email,\n",
    "    recipient = _email,\n",
    "    api_key = sendgrid_token,\n",
    "    subject = subject,\n",
    "    text = text,\n",
    "    attachmentFilePaths = [filename]\n",
    ") # end send email"
   ]
  },
  {
   "cell_type": "code",
   "execution_count": null,
   "metadata": {},
   "outputs": [],
   "source": []
  },
  {
   "cell_type": "code",
   "execution_count": null,
   "metadata": {},
   "outputs": [],
   "source": []
  },
  {
   "cell_type": "code",
   "execution_count": null,
   "metadata": {},
   "outputs": [],
   "source": []
  }
 ],
 "metadata": {
  "kernelspec": {
   "display_name": "Python 3",
   "language": "python",
   "name": "python3"
  },
  "language_info": {
   "codemirror_mode": {
    "name": "ipython",
    "version": 3
   },
   "file_extension": ".py",
   "mimetype": "text/x-python",
   "name": "python",
   "nbconvert_exporter": "python",
   "pygments_lexer": "ipython3",
   "version": "3.6.8"
  }
 },
 "nbformat": 4,
 "nbformat_minor": 2
}
